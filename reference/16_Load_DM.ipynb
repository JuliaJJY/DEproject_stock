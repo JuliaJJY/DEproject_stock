{
 "cells": [
  {
   "cell_type": "code",
   "execution_count": 1,
   "metadata": {},
   "outputs": [],
   "source": [
    "from IPython.core.interactiveshell import InteractiveShell\n",
    "InteractiveShell.ast_node_interactivity = \"all\""
   ]
  },
  {
   "cell_type": "code",
   "execution_count": 2,
   "metadata": {},
   "outputs": [],
   "source": [
    "# 데이터마트용 계정 생성\n",
    "# sqlDeveloper에서 진행\n",
    "# create user dm_admin IDENTIFIED BY \"123qwe!@#QWE\";\n",
    "# grant dwrole to dm_admin;\n",
    "# grant unlimited tablespace to dm_admin;\n"
   ]
  },
  {
   "cell_type": "code",
   "execution_count": 3,
   "metadata": {},
   "outputs": [],
   "source": [
    "from datetime import date, datetime\n",
    "from pyspark.sql.types import *\n",
    "from pyspark.sql.functions import *\n",
    "import datetime as dt\n",
    "import pandas as pd\n",
    "import matplotlib.pyplot as plt #그래프 패키지 모듈 등록\n",
    "%matplotlib inline \n"
   ]
  },
  {
   "cell_type": "code",
   "execution_count": 4,
   "metadata": {},
   "outputs": [],
   "source": [
    "import platform\n",
    "\n",
    "from matplotlib import font_manager, rc\n",
    "plt.rcParams['axes.unicode_minus'] = False\n",
    "\n",
    "if platform.system() == 'Darwin':  # 맥OS \n",
    "    rc('font', family='AppleGothic')\n",
    "elif platform.system() == 'Windows':  # 윈도우\n",
    "    path = \"c:/Windows/Fonts/malgun.ttf\"\n",
    "    font_name = font_manager.FontProperties(fname=path).get_name()\n",
    "    rc('font', family=font_name)\n",
    "else:\n",
    "    rc('font', family='NanumGothic')"
   ]
  },
  {
   "cell_type": "code",
   "execution_count": 5,
   "metadata": {},
   "outputs": [],
   "source": [
    "def cal_std_day(befor_day):   \n",
    "    x = dt.datetime.now() - dt.timedelta(befor_day)\n",
    "    year = x.year\n",
    "    month = x.month if x.month >= 10 else '0'+ str(x.month)\n",
    "    day = x.day if x.day >= 10 else '0'+ str(x.day)  \n",
    "    return str(year)+ '-' +str(month)+ '-' +str(day)"
   ]
  },
  {
   "cell_type": "markdown",
   "metadata": {},
   "source": [
    "### JDBC"
   ]
  },
  {
   "cell_type": "code",
   "execution_count": 6,
   "metadata": {},
   "outputs": [],
   "source": [
    "#데이터마트\n",
    "JDBC_DW = {\n",
    "    'url':'jdbc:oracle:thin:@decorona1_high?TNS_ADMIN=/home/big/study/db/Wallet_DECORONA1'\n",
    "    ,'props':{\n",
    "        'user':'dw_jjy'\n",
    "       ,'password':'123qwe!@#QWE'\n",
    "    }   \n",
    "}\n",
    "JDBC_DM = {\n",
    "    'url':'jdbc:oracle:thin:@decorona1_high?TNS_ADMIN=/home/big/study/db/Wallet_DECORONA1'\n",
    "    ,'props':{\n",
    "        'user':'dm_jjy'\n",
    "       ,'password':'123qwe!@#QWE'\n",
    "    }   \n",
    "}"
   ]
  },
  {
   "cell_type": "markdown",
   "metadata": {},
   "source": [
    "## Load DataMart"
   ]
  },
  {
   "cell_type": "markdown",
   "metadata": {},
   "source": [
    "### 1. 지역별 단위면적(km)당 인구수와 코로나 확진자 수 데이터 저장"
   ]
  },
  {
   "cell_type": "code",
   "execution_count": 7,
   "metadata": {},
   "outputs": [
    {
     "name": "stderr",
     "output_type": "stream",
     "text": [
      "                                                                                \r"
     ]
    },
    {
     "name": "stdout",
     "output_type": "stream",
     "text": [
      "+----+----+----------+------------+\n",
      "| LOC|AREA|POPULATION|FACILITY_CNT|\n",
      "+----+----+----------+------------+\n",
      "|서울| 605|   9736027|        5224|\n",
      "|부산| 770|   3396109|        1462|\n",
      "|대구| 883|   2412642|        1015|\n",
      "+----+----+----------+------------+\n",
      "only showing top 3 rows\n",
      "\n"
     ]
    },
    {
     "name": "stderr",
     "output_type": "stream",
     "text": [
      "\r\n",
      "[Stage 1:>                                                          (0 + 1) / 1]\r"
     ]
    },
    {
     "name": "stdout",
     "output_type": "stream",
     "text": [
      "+------+----+---------+-------+-----------+--------+----------+\n",
      "|cp_idx| LOC|DEATH_CNT|DEF_CNT|LOC_OCC_CNT|QUR_RATE|   STD_DAY|\n",
      "+------+----+---------+-------+-----------+--------+----------+\n",
      "|   627|부산|     2253|1216922|       6629|   36322|2022-08-05|\n",
      "|   628|인천|     1416|1147162|       4752|   38908|2022-07-28|\n",
      "|   629|강원|      902| 608719|       4589|   39566|2022-08-11|\n",
      "+------+----+---------+-------+-----------+--------+----------+\n",
      "only showing top 3 rows\n",
      "\n"
     ]
    },
    {
     "name": "stderr",
     "output_type": "stream",
     "text": [
      "\r\n",
      "                                                                                \r"
     ]
    }
   ],
   "source": [
    "popu=spark.read.jdbc(url=JDBC_DW['url'], table='loc',properties=JDBC_DW['props'])\n",
    "patients=spark.read.jdbc(url=JDBC_DW['url'], table='corona_patients',properties=JDBC_DW['props'])\n",
    "popu.show(3)\n",
    "patients.show(3)\n"
   ]
  },
  {
   "cell_type": "code",
   "execution_count": 42,
   "metadata": {},
   "outputs": [
    {
     "name": "stderr",
     "output_type": "stream",
     "text": [
      "[Stage 50:>                                                         (0 + 1) / 1]\r"
     ]
    },
    {
     "name": "stdout",
     "output_type": "stream",
     "text": [
      "+----+------------+--------+----------+\n",
      "| loc|POPU_DENSITY|qur_rate|   std_day|\n",
      "+----+------------+--------+----------+\n",
      "|광주|        2920|   39153|2022-07-28|\n",
      "|세종|         811|   40272|2022-07-28|\n",
      "|경남|         321|   35192|2022-07-28|\n",
      "|강원|          93|   36318|2022-07-28|\n",
      "|강원|          93|   36318|2022-07-28|\n",
      "|경기|        1366|   39145|2022-07-28|\n",
      "|경남|         321|   35192|2022-07-28|\n",
      "|경북|         141|   32018|2022-07-28|\n",
      "|경기|        1366|   39145|2022-07-28|\n",
      "|경북|         141|   32018|2022-07-28|\n",
      "|광주|        2920|   39153|2022-07-28|\n",
      "|대구|        2733|   34103|2022-07-28|\n",
      "|대구|        2733|   34103|2022-07-28|\n",
      "|대전|        2722|   37839|2022-07-28|\n",
      "|대전|        2722|   37839|2022-07-28|\n",
      "|부산|        4411|   35083|2022-07-28|\n",
      "|부산|        4411|   35083|2022-07-28|\n",
      "|서울|       16093|   41322|2022-07-28|\n",
      "|서울|       16093|   41322|2022-07-28|\n",
      "|세종|         811|   40272|2022-07-28|\n",
      "+----+------------+--------+----------+\n",
      "only showing top 20 rows\n",
      "\n"
     ]
    },
    {
     "name": "stderr",
     "output_type": "stream",
     "text": [
      "\r\n",
      "                                                                                \r"
     ]
    }
   ],
   "source": [
    "pop_patients = popu.join(patients, on='loc') \\\n",
    "                            .select('loc', \n",
    "                                   ceil(col('population')/col('area')).alias('POPU_DENSITY'),\n",
    "                                        'qur_rate',\n",
    "                                        'std_day') \\\n",
    "                                    .orderBy(col('std_day'))\n",
    "pop_patients.show()\n"
   ]
  },
  {
   "cell_type": "code",
   "execution_count": 27,
   "metadata": {},
   "outputs": [
    {
     "ename": "AttributeError",
     "evalue": "'str' object has no attribute 'orderBy'",
     "output_type": "error",
     "traceback": [
      "\u001b[0;31m---------------------------------------------------------------------------\u001b[0m",
      "\u001b[0;31mAttributeError\u001b[0m                            Traceback (most recent call last)",
      "Input \u001b[0;32mIn [27]\u001b[0m, in \u001b[0;36m<cell line: 1>\u001b[0;34m()\u001b[0m\n\u001b[1;32m      1\u001b[0m pop_patients \u001b[38;5;241m=\u001b[39m popu\u001b[38;5;241m.\u001b[39mjoin(patients, on\u001b[38;5;241m=\u001b[39m\u001b[38;5;124m'\u001b[39m\u001b[38;5;124mloc\u001b[39m\u001b[38;5;124m'\u001b[39m)\\\n\u001b[0;32m----> 2\u001b[0m                 \u001b[38;5;241m.\u001b[39mselect(\u001b[38;5;124m'\u001b[39m\u001b[38;5;124mloc\u001b[39m\u001b[38;5;124m'\u001b[39m, ceil(col(\u001b[38;5;124m'\u001b[39m\u001b[38;5;124mpopulation\u001b[39m\u001b[38;5;124m'\u001b[39m)\u001b[38;5;241m/\u001b[39mcol(\u001b[38;5;124m'\u001b[39m\u001b[38;5;124marea\u001b[39m\u001b[38;5;124m'\u001b[39m))\u001b[38;5;241m.\u001b[39malias(\u001b[38;5;124m'\u001b[39m\u001b[38;5;124mPOPU_DENSITY\u001b[39m\u001b[38;5;124m'\u001b[39m),\u001b[38;5;124m'\u001b[39m\u001b[38;5;124mqur_rate\u001b[39m\u001b[38;5;124m'\u001b[39m,\u001b[38;5;124;43m'\u001b[39;49m\u001b[38;5;124;43mstd_day\u001b[39;49m\u001b[38;5;124;43m'\u001b[39;49m\u001b[38;5;241;43m.\u001b[39;49m\u001b[43morderBy\u001b[49m(col(\u001b[38;5;124m'\u001b[39m\u001b[38;5;124mstd_day\u001b[39m\u001b[38;5;124m'\u001b[39m)))\n",
      "\u001b[0;31mAttributeError\u001b[0m: 'str' object has no attribute 'orderBy'"
     ]
    }
   ],
   "source": [
    "# pop_patients = popu.join(patients, on='loc')\\\n",
    "#                 .select('loc', ceil(col('population')/col('area')).alias('POPU_DENSITY'),'qur_rate','std_day'.orderBy(col('std_day')))"
   ]
  },
  {
   "cell_type": "code",
   "execution_count": 43,
   "metadata": {},
   "outputs": [
    {
     "name": "stderr",
     "output_type": "stream",
     "text": [
      "                                                                                \r"
     ]
    }
   ],
   "source": [
    "pop_patients.write.jdbc(url=JDBC_DM['url'],table='CO_POPU_DENSITY', mode='append', properties=JDBC_DM['props'])"
   ]
  },
  {
   "cell_type": "markdown",
   "metadata": {},
   "source": [
    "### 2.  백신접종 완료자와 코로나 확진자 수 데이터 저장"
   ]
  },
  {
   "cell_type": "code",
   "execution_count": 40,
   "metadata": {},
   "outputs": [],
   "source": [
    "vaccine=spark.read.jdbc(url=JDBC_DW['url'],table='CORONA_VACCINE', properties=JDBC_DW['props'])"
   ]
  },
  {
   "cell_type": "code",
   "execution_count": 30,
   "metadata": {},
   "outputs": [
    {
     "name": "stderr",
     "output_type": "stream",
     "text": [
      "\r\n",
      "[Stage 27:>                                                         (0 + 1) / 1]\r"
     ]
    },
    {
     "name": "stdout",
     "output_type": "stream",
     "text": [
      "+------+----+----+--------+----------+\n",
      "|CV_IDX| LOC|V_TH|   V_CNT|   STD_DAY|\n",
      "+------+----+----+--------+----------+\n",
      "|    30|경기|  v2|11712435|2022-09-18|\n",
      "|    31|경기|  v4| 1688068|2022-09-18|\n",
      "|    32|경기|  v1|11828148|2022-09-18|\n",
      "+------+----+----+--------+----------+\n",
      "only showing top 3 rows\n",
      "\n"
     ]
    },
    {
     "name": "stderr",
     "output_type": "stream",
     "text": [
      "\r\n",
      "                                                                                \r"
     ]
    }
   ],
   "source": [
    "vaccine.show(3)"
   ]
  },
  {
   "cell_type": "code",
   "execution_count": 49,
   "metadata": {},
   "outputs": [
    {
     "name": "stderr",
     "output_type": "stream",
     "text": [
      "[Stage 117:>                                                        (0 + 1) / 1]\r"
     ]
    },
    {
     "name": "stdout",
     "output_type": "stream",
     "text": [
      "+----+----------+---------+---------+---------+---------+--------+\n",
      "| LOC|   STD_DAY|V1TH_RATE|V2TH_RATE|V3TH_RATE|V4TH_RATE|QUR_RATE|\n",
      "+----+----------+---------+---------+---------+---------+--------+\n",
      "|강원|2022-08-11|       87|       87|       87|       87|   39566|\n",
      "|강원|2022-08-18|       87|       87|       87|       87|   41366|\n",
      "|강원|2022-08-05|       87|       87|       87|       87|   37970|\n",
      "|강원|2022-08-12|       87|       87|       87|       87|   39846|\n",
      "|강원|2022-09-14|       87|       87|       87|       87|   45979|\n",
      "|강원|2022-08-24|       87|       87|       87|       87|   42792|\n",
      "|강원|2022-08-30|       87|       87|       87|       87|   43856|\n",
      "|강원|2022-08-27|       87|       87|       87|       87|   43269|\n",
      "|강원|2022-09-05|       87|       87|       87|       87|   44783|\n",
      "|강원|2022-09-02|       87|       87|       87|       87|   44410|\n",
      "|강원|2022-09-11|       87|       87|       87|       87|   45472|\n",
      "|강원|2022-07-30|       87|       87|       87|       87|   36668|\n",
      "|강원|2022-09-09|       87|       87|       87|       87|   45443|\n",
      "|강원|2022-08-26|       87|       87|       87|       87|   43207|\n",
      "|강원|2022-08-01|       87|       87|       87|       87|   36923|\n",
      "|강원|2022-07-31|       87|       87|       87|       87|   36829|\n",
      "|강원|2022-09-07|       87|       87|       87|       87|   45144|\n",
      "|강원|2022-07-29|       87|       87|       87|       87|   36498|\n",
      "|강원|2022-09-03|       87|       87|       87|       87|   44566|\n",
      "|강원|2022-08-21|       87|       87|       87|       87|   42082|\n",
      "|강원|2022-08-08|       87|       87|       87|       87|   38615|\n",
      "|강원|2022-08-22|       87|       87|       87|       87|   42220|\n",
      "|강원|2022-08-15|       87|       87|       87|       87|   40484|\n",
      "|강원|2022-08-28|       87|       87|       87|       87|   43551|\n",
      "|강원|2022-09-12|       87|       87|       87|       87|   45681|\n",
      "|강원|2022-09-10|       87|       87|       87|       87|   45537|\n",
      "|강원|2022-09-01|       87|       87|       87|       87|   44248|\n",
      "|강원|2022-09-06|       87|       87|       87|       87|   44966|\n",
      "|강원|2022-08-04|       87|       87|       87|       87|   37709|\n",
      "|강원|2022-09-04|       87|       87|       87|       87|   44701|\n",
      "|강원|2022-08-29|       87|       87|       87|       87|   43649|\n",
      "|강원|2022-09-08|       87|       87|       87|       87|   45295|\n",
      "|강원|2022-08-13|       87|       87|       87|       87|   40105|\n",
      "|강원|2022-08-31|       87|       87|       87|       87|   44077|\n",
      "|강원|2022-08-07|       87|       87|       87|       87|   38451|\n",
      "|강원|2022-08-17|       87|       87|       87|       87|   41000|\n",
      "|강원|2022-08-10|       87|       87|       87|       87|   39267|\n",
      "|강원|2022-08-09|       87|       87|       87|       87|   38924|\n",
      "|강원|2022-07-28|       87|       87|       87|       87|   36318|\n",
      "|강원|2022-08-03|       87|       87|       87|       87|   37425|\n",
      "|강원|2022-08-16|       87|       87|       87|       87|   40664|\n",
      "|강원|2022-08-25|       87|       87|       87|       87|   43008|\n",
      "|강원|2022-08-19|       87|       87|       87|       87|   41646|\n",
      "|강원|2022-08-06|       87|       87|       87|       87|   38228|\n",
      "|강원|2022-08-20|       87|       87|       87|       87|   41885|\n",
      "|강원|2022-08-27|       87|       87|       87|       87|   43269|\n",
      "|강원|2022-09-05|       87|       87|       87|       87|   44783|\n",
      "|강원|2022-09-02|       87|       87|       87|       87|   44410|\n",
      "|강원|2022-09-11|       87|       87|       87|       87|   45472|\n",
      "|강원|2022-07-30|       87|       87|       87|       87|   36668|\n",
      "|강원|2022-09-09|       87|       87|       87|       87|   45443|\n",
      "|강원|2022-08-26|       87|       87|       87|       87|   43207|\n",
      "|강원|2022-08-01|       87|       87|       87|       87|   36923|\n",
      "|강원|2022-07-31|       87|       87|       87|       87|   36829|\n",
      "|강원|2022-09-07|       87|       87|       87|       87|   45144|\n",
      "|강원|2022-07-29|       87|       87|       87|       87|   36498|\n",
      "|강원|2022-09-03|       87|       87|       87|       87|   44566|\n",
      "|강원|2022-08-08|       87|       87|       87|       87|   38615|\n",
      "|강원|2022-08-22|       87|       87|       87|       87|   42220|\n",
      "|강원|2022-08-15|       87|       87|       87|       87|   40484|\n",
      "|강원|2022-08-28|       87|       87|       87|       87|   43551|\n",
      "|강원|2022-09-18|       87|       87|       87|       87|   46433|\n",
      "|강원|2022-09-12|       87|       87|       87|       87|   45681|\n",
      "|강원|2022-09-10|       87|       87|       87|       87|   45537|\n",
      "|강원|2022-09-01|       87|       87|       87|       87|   44248|\n",
      "|강원|2022-09-06|       87|       87|       87|       87|   44966|\n",
      "|강원|2022-08-04|       87|       87|       87|       87|   37709|\n",
      "|강원|2022-09-04|       87|       87|       87|       87|   44701|\n",
      "|강원|2022-08-29|       87|       87|       87|       87|   43649|\n",
      "|강원|2022-09-08|       87|       87|       87|       87|   45295|\n",
      "|강원|2022-08-13|       87|       87|       87|       87|   40105|\n",
      "|강원|2022-08-31|       87|       87|       87|       87|   44077|\n",
      "|강원|2022-08-07|       87|       87|       87|       87|   38451|\n",
      "|강원|2022-08-17|       87|       87|       87|       87|   41000|\n",
      "|강원|2022-08-10|       87|       87|       87|       87|   39267|\n",
      "|강원|2022-08-09|       87|       87|       87|       87|   38924|\n",
      "|강원|2022-07-28|       87|       87|       87|       87|   36318|\n",
      "|강원|2022-08-03|       87|       87|       87|       87|   37425|\n",
      "|강원|2022-08-16|       87|       87|       87|       87|   40664|\n",
      "|강원|2022-08-25|       87|       87|       87|       87|   43008|\n",
      "|강원|2022-08-19|       87|       87|       87|       87|   41646|\n",
      "|강원|2022-08-06|       87|       87|       87|       87|   38228|\n",
      "|강원|2022-08-21|       87|       87|       87|       87|   42082|\n",
      "|강원|2022-08-14|       87|       87|       87|       87|   40330|\n",
      "|강원|2022-08-02|       87|       87|       87|       87|   37126|\n",
      "|강원|2022-08-20|       87|       87|       87|       87|   41885|\n",
      "|강원|2022-08-11|       87|       87|       87|       87|   39566|\n",
      "|강원|2022-08-18|       87|       87|       87|       87|   41366|\n",
      "|강원|2022-08-05|       87|       87|       87|       87|   37970|\n",
      "|강원|2022-08-12|       87|       87|       87|       87|   39846|\n",
      "|강원|2022-09-14|       87|       87|       87|       87|   45979|\n",
      "|강원|2022-08-24|       87|       87|       87|       87|   42792|\n",
      "|강원|2022-08-30|       87|       87|       87|       87|   43856|\n",
      "|강원|2022-08-14|       87|       87|       87|       87|   40330|\n",
      "|강원|2022-08-02|       87|       87|       87|       87|   37126|\n",
      "|강원|2022-09-18|       87|       87|       87|       87|   46433|\n",
      "|경기|2022-08-14|       85|       85|       85|       85|   42624|\n",
      "|경기|2022-08-17|       85|       85|       85|       85|   43237|\n",
      "|경기|2022-08-18|       85|       85|       85|       85|   43550|\n",
      "|경기|2022-08-20|       85|       85|       85|       85|   44027|\n",
      "+----+----------+---------+---------+---------+---------+--------+\n",
      "only showing top 100 rows\n",
      "\n"
     ]
    },
    {
     "name": "stderr",
     "output_type": "stream",
     "text": [
      "\r\n",
      "                                                                                \r"
     ]
    }
   ],
   "source": [
    "pd_vaccine=vaccine.to_pandas_on_spark()\n",
    "pd_vaccine=pd_vaccine.pivot_table(index=['LOC','STD_DAY'], columns='V_TH', values='V_CNT')\n",
    "pd_vaccine=pd_vaccine.reset_index()\n",
    "tmp=pd_vaccine.to_spark()\n",
    "\n",
    "vac_rate=tmp.join(popu, on='LOC')\\\n",
    "                    .join(patients, on ='LOC')\\\n",
    "                    .select('LOC',patients.STD_DAY\n",
    "                            ,ceil(col('v1')/col('population') * 100).alias('V1TH_RATE')\n",
    "                            ,ceil(col('v1')/col('population') * 100).alias('V2TH_RATE')\n",
    "                            ,ceil(col('v1')/col('population') * 100).alias('V3TH_RATE')\n",
    "                            ,ceil(col('v1')/col('population') * 100).alias('V4TH_RATE')\n",
    "                            ,'QUR_RATE'\n",
    "\n",
    "       )\n",
    "vac_rate.show(100)"
   ]
  },
  {
   "cell_type": "code",
   "execution_count": 51,
   "metadata": {},
   "outputs": [
    {
     "name": "stderr",
     "output_type": "stream",
     "text": [
      "                                                                                \r"
     ]
    }
   ],
   "source": [
    "vac_rate.write.jdbc(url=JDBC_DM['url'], table='CO_VACCINE', mode='append', properties=JDBC_DM['props'])"
   ]
  },
  {
   "cell_type": "markdown",
   "metadata": {},
   "source": [
    "### 3. 다중이용시설과 코로나 확진자 수의 상관관계"
   ]
  },
  {
   "cell_type": "code",
   "execution_count": 12,
   "metadata": {
    "scrolled": true
   },
   "outputs": [],
   "source": [
    "fac=spark.read.jdbc(url=JDBC_DW['url'],table='CORONA_FACILITY', properties=JDBC_DW['props'])"
   ]
  },
  {
   "cell_type": "code",
   "execution_count": 13,
   "metadata": {},
   "outputs": [],
   "source": []
  },
  {
   "cell_type": "code",
   "execution_count": 14,
   "metadata": {},
   "outputs": [
    {
     "name": "stderr",
     "output_type": "stream",
     "text": [
      "                                                                                \r"
     ]
    }
   ],
   "source": []
  },
  {
   "cell_type": "markdown",
   "metadata": {},
   "source": [
    "### 4. 요일별 코로나 확진자 수를 구해보자"
   ]
  },
  {
   "cell_type": "code",
   "execution_count": null,
   "metadata": {},
   "outputs": [],
   "source": [
    "#TRANSFORMATION 파일에서 했었음"
   ]
  },
  {
   "cell_type": "code",
   "execution_count": 16,
   "metadata": {},
   "outputs": [
    {
     "name": "stderr",
     "output_type": "stream",
     "text": [
      "                                                                                \r"
     ]
    }
   ],
   "source": []
  }
 ],
 "metadata": {
  "kernelspec": {
   "display_name": "Python 3.10.5 64-bit",
   "language": "python",
   "name": "python3"
  },
  "language_info": {
   "codemirror_mode": {
    "name": "ipython",
    "version": 3
   },
   "file_extension": ".py",
   "mimetype": "text/x-python",
   "name": "python",
   "nbconvert_exporter": "python",
   "pygments_lexer": "ipython3",
   "version": "3.10.5"
  },
  "vscode": {
   "interpreter": {
    "hash": "ba631fd18c6ba4f2745f674ee284c5c9aa26a46ab7315e6d5db064e0987f2c32"
   }
  }
 },
 "nbformat": 4,
 "nbformat_minor": 5
}
