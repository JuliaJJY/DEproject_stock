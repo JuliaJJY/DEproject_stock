{
 "cells": [
  {
   "cell_type": "code",
   "execution_count": 2,
   "metadata": {},
   "outputs": [],
   "source": [
    "from IPython.core.interactiveshell import InteractiveShell\n",
    "InteractiveShell.ast_node_interactivity = \"all\""
   ]
  },
  {
   "cell_type": "code",
   "execution_count": 2,
   "metadata": {},
   "outputs": [
    {
     "name": "stdout",
     "output_type": "stream",
     "text": [
      "Requirement already satisfied: pandas in /home/big/.local/lib/python3.8/site-packages (1.4.4)\n",
      "Requirement already satisfied: python-dateutil>=2.8.1 in /home/big/.local/lib/python3.8/site-packages (from pandas) (2.8.2)\n",
      "Requirement already satisfied: numpy>=1.18.5; platform_machine != \"aarch64\" and platform_machine != \"arm64\" and python_version < \"3.10\" in /home/big/.local/lib/python3.8/site-packages (from pandas) (1.23.2)\n",
      "Requirement already satisfied: pytz>=2020.1 in /home/big/.local/lib/python3.8/site-packages (from pandas) (2022.1)\n",
      "Requirement already satisfied: six>=1.5 in /home/big/.local/lib/python3.8/site-packages (from python-dateutil>=2.8.1->pandas) (1.16.0)\n"
     ]
    }
   ],
   "source": [
    "# !pip install pandas"
   ]
  },
  {
   "cell_type": "code",
   "execution_count": 3,
   "metadata": {},
   "outputs": [],
   "source": [
    "from datetime import date, datetime\n",
    "from pyspark.sql.types import *\n",
    "from pyspark.sql.functions import *\n",
    "import datetime as dt\n",
    "import pandas as pd\n",
    "from pyspark.context import SparkContext\n",
    "from pyspark.sql.session import SparkSession\n",
    "import pyspark\n",
    "from pyspark.sql import SparkSession"
   ]
  },
  {
   "cell_type": "code",
   "execution_count": 4,
   "metadata": {},
   "outputs": [],
   "source": [
    "def cal_std_day(befor_day):   \n",
    "    x = dt.datetime.now() - dt.timedelta(befor_day)\n",
    "    year = x.year\n",
    "    month = x.month if x.month >= 10 else '0'+ str(x.month)\n",
    "    day = x.day if x.day >= 10 else '0'+ str(x.day)  \n",
    "    return str(year)+ '-' +str(month)+ '-' +str(day)"
   ]
  },
  {
   "cell_type": "code",
   "execution_count": 6,
   "metadata": {},
   "outputs": [
    {
     "name": "stderr",
     "output_type": "stream",
     "text": [
      "WARNING: An illegal reflective access operation has occurred\n",
      "WARNING: Illegal reflective access by org.apache.spark.unsafe.Platform (file:/home/big/spark-3.2.2-bin-without-hadoop/jars/spark-unsafe_2.12-3.2.2.jar) to constructor java.nio.DirectByteBuffer(long,int)\n",
      "WARNING: Please consider reporting this to the maintainers of org.apache.spark.unsafe.Platform\n",
      "WARNING: Use --illegal-access=warn to enable warnings of further illegal reflective access operations\n",
      "WARNING: All illegal access operations will be denied in a future release\n"
     ]
    }
   ],
   "source": [
    "from pyspark.sql.session import SparkSession\n",
    "\n",
    "spark = SparkSession.builder.getOrCreate()"
   ]
  },
  {
   "cell_type": "code",
   "execution_count": 11,
   "metadata": {},
   "outputs": [
    {
     "name": "stdout",
     "output_type": "stream",
     "text": [
      "+-------------------------------+------------------------------+\n",
      "|                           data|                          meta|\n",
      "+-------------------------------+------------------------------+\n",
      "|[{코스피, 영란은행이 만든 반...|{{뉴스제목}, 네이버 실시간 ...|\n",
      "+-------------------------------+------------------------------+\n",
      "\n"
     ]
    }
   ],
   "source": [
    "file_name = '/news_data/article/realtimenews_' + cal_std_day(0) + '.json'\n",
    "tmp = spark.read.json(file_name, encoding='UTF-8')\n",
    "tmp.show(10)"
   ]
  },
  {
   "cell_type": "code",
   "execution_count": 12,
   "metadata": {},
   "outputs": [
    {
     "data": {
      "text/plain": [
       "Row(data=[Row(TITLE=\"코스피, 영란은행이 만든 반나절…기관 '팔자' 전환하며 2170선 턱걸이\"), Row(TITLE='형지I&C, 128억원 주주배정 유증'), Row(TITLE='[표]장외주식 거래현황(9/29)'), Row(TITLE='강종현 회장이 거느린 비덴트는 어떤 회사?'), Row(TITLE='티쓰리엔터테인먼트, 증권신고서 제출...11월 코스닥 상장'), Row(TITLE='이베스트투자증권, 하반기 채용전제형 인턴 모집'), Row(TITLE='밀리의 서재, 증권신고서 제출...11월 코스닥 입성'), Row(TITLE='[표]증시주변 자금동향 (9/28)'), Row(TITLE='[표]코스피 기관/외국인 매매동향(9/29 3시30분)'), Row(TITLE='[표]코스닥 기관/외국인 매매동향(9/29 3시30분)'), Row(TITLE='[표]주가지수선물 투자자별 매매동향(9/29)'), Row(TITLE='밀리의 서재, 증권신고서 제출…11월 코스닥 상장 예정'), Row(TITLE='티쓰리엔터테인먼트, 증권신고서 제출…11월 코스닥 상장'), Row(TITLE='[표]거래소주가지수선물·옵션시세표(9/29)'), Row(TITLE='[AD]내년 5% 전망에 출렁이는 美 국채…ETN으로 양방향 투자'), Row(TITLE='이즈미디어, 골프웨어 사업부문 영업 정지'), Row(TITLE='한국투자증권, 기업 대상 ‘퇴직연금 세미나’ 개최'), Row(TITLE='KT가 품은 ‘밀리의 서재’, 11월 코스닥 상장 도전'), Row(TITLE='휴먼엔, 13억원 규모 해상고철 납품계약'), Row(TITLE='이즈미디어, 골프웨어 사업 영업 정지'), Row(TITLE='이즈미디어, 골프웨어 사업 영업 정지'), Row(TITLE='아이엘사이언스, 20억원 상당 경관조명 물품 공급'), Row(TITLE='금감원, 세토피아에 정정신고서 제출 요구'), Row(TITLE='거래소, 탈로스 코넥스시장 신규상장 신청 접수'), Row(TITLE='밀리의서재, 증권신고서 제출…11월 코스닥 상장'), Row(TITLE='\"회계 감리 1년 명문화\"…금감원, 외부감사 시행세칙 개정'), Row(TITLE='日증시, 美국채금리 안정에 상승 마감…닛케이지수 0.95%↑'), Row(TITLE='[마감] 코스피, 외국인 순매수에 강보합… 2170선 회복'), Row(TITLE=\"물적분할 무서워 인적분할 나섰는데…그래도 주가는 '뚝'\"), Row(TITLE='급락장 순매수 1위… 개인은 삼성전자, 기관과 외국인은?'), Row(TITLE='올해 국내증시에서 외국인 17조원 순매도'), Row(TITLE='금융위 \"90일 이상 공매도 투자자 보고 의무화\"'), Row(TITLE=\"2200선 회복하나 싶더니…찔끔 오른 코스피에 개미들 '절망'\"), Row(TITLE='미국 지수선물 낙폭 늘려…나스닥 선물 0.81%↓'), Row(TITLE='밀리의서재, 증권신고서 제출…11월 코스닥 상장'), Row(TITLE='\"삼성전자·LG엔솔도 못 피했다\"…코스피 공매도 40% 증가'), Row(TITLE='증안펀드·공매도 금지, 검토만 늘어놓는 정부 [이코노 EYE]'), Row(TITLE='[시황] 코스피, 외인 매수 속 약보합…2170선 종료'), Row(TITLE='코스피, 급락장세 일단 진정…강보합 마감(종합)'), Row(TITLE='티쓰리엔터테인먼트, 코스닥 상장 ‘박차’ … 증권신고서 제출'), Row(TITLE='티쓰리엔터테인먼트, 증권신고서 제출…11월 상장'), Row(TITLE=\"권순우 '혼신의 경기'\"), Row(TITLE=\"권순우 '혼신의 경기'\"), Row(TITLE=\"권순우 '혼신의 경기'\"), Row(TITLE=\"권순우 '혼신의 경기'\"), Row(TITLE='권순우, 코리아오픈 단식 8강 진출 실패'), Row(TITLE=\"권순우 '혼신의 경기'\"), Row(TITLE=\"권순우 '혼신의 경기'\"), Row(TITLE='공을 ?는 매서운 눈'), Row(TITLE='젠슨 브룩스비, 코리아오픈 단식 8강 진출'), Row(TITLE=\"권순우 '혼신의 경기'\"), Row(TITLE='젠슨 브룩스비, 코리아오픈 단식 8강 진출'), Row(TITLE=\"권순우 '혼신의 경기'\"), Row(TITLE='목 축이는 권순우'), Row(TITLE=\"권순우 '혼신의 경기'\"), Row(TITLE='권순우 응원하는 이국주'), Row(TITLE='코스피 상승, 환율 하락 마감'), Row(TITLE=\"권순우 '혼신의 경기'\"), Row(TITLE='젠슨 브룩스비, 코리아오픈 단식 8강 진출'), Row(TITLE='젠슨 브룩스비, 코리아오픈 단식 8강 진출'), Row(TITLE=\"권순우 '혼신의 경기'\"), Row(TITLE='권순우 응원하는 이국주'), Row(TITLE='코스피 상승, 환율 하락 마감'), Row(TITLE=\"권순우 '혼신의 경기'\"), Row(TITLE='젠슨 브룩스비, 코리아오픈 단식 8강 진출'), Row(TITLE='젠슨 브룩스비, 코리아오픈 단식 8강 진출'), Row(TITLE='권순우, 코리아오픈 8강진출 실패'), Row(TITLE='코스피-코스닥 상승 마감, 환율 1원 내려 1,438.9원'), Row(TITLE='젠슨 브룩스비와 인사 나누는 권순우'), Row(TITLE='권순우, 코리아오픈 8강 진출 아쉽게 실패'), Row(TITLE='젠슨 브룩스비와 인사 나누는 권순우'), Row(TITLE='코스피-코스닥 상승 마감, 환율 1원 내려 1,438.9원'), Row(TITLE='환율 1원 내린 1,438.9원에 마감'), Row(TITLE='팬들에 화답하는 권순우'), Row(TITLE='코스피-코스닥 상승 마감, 환율 1원 내려 1,438.9원'), Row(TITLE='환율 1원 내린 1,438.9원 마감'), Row(TITLE='코스피-코스닥 상승 마감, 환율 1원 내려 1,438.9원'), Row(TITLE='상승 마감한 코스피'), Row(TITLE='코스피 소폭 상승, 원달러 소폭 하락'), Row(TITLE='상승 마감한 코스피'), Row(TITLE='코스피 소폭 상승, 원달러 소폭 하락'), Row(TITLE='회계사들 \"3분기 체감경기 더욱 악화…4분기도 경기 부진 전망\"'), Row(TITLE=\"MZ세대 모으는 한투증권…투자 콘텐츠 'M.ZIP' 출시\"), Row(TITLE='코스피, 유럽발 경기침체 우려에 상승폭 반납…2170선 마감'), Row(TITLE='환율 롤러코스터 장세…1440원 아래 간신히 턱걸이'), Row(TITLE='[시황] 코스피, ‘외인’ 반발매수 유입에 강보합…2170.93P 마감'), Row(TITLE='[마감시황]코스피, 상승분 반납 후 강보합 마감…0.08%↑'), Row(TITLE='장 중 기업공시 [9월 29일]'), Row(TITLE='웹툰?맥주?게임까지…MZ세대 취향 저격 증권사'), Row(TITLE='실외 마스크 해제에도 암울하다…주가 3분의1 토막난 아모레퍼시픽'), Row(TITLE='[데이터로 보는 증시]IPO장외 주요 종목 시세( 9월 29일)'), Row(TITLE='환율 소폭 하락'), Row(TITLE='코스피 강보합 마감, 환율은 소폭 하락'), Row(TITLE='코스피 강보합 마감, 환율은 소폭 하락'), Row(TITLE='코스피 강보합 마감, 환율은 소폭 하락'), Row(TITLE='코스피 강보합 마감, 환율은 소폭 하락'), Row(TITLE='코스피 강보합 마감, 환율은 소폭 하락'), Row(TITLE='코스피 강보합 마감, 환율은 소폭 하락'), Row(TITLE=\"'사만전자' 이야기 나올 때 삼성전자 임원들은 주식 더 샀다\"), Row(TITLE='급식에도 김치 대신 콩나물…“金치 플레이션 감당 못 해”'), Row(TITLE='코스피 강보합 마감, 환율은 소폭 하락'), Row(TITLE='코스피 강보합 마감, 환율은 소폭 하락'), Row(TITLE='코스피 강보합 마감, 환율은 소폭 하락'), Row(TITLE=\"'사만전자' 이야기 나올 때 삼성전자 임원들은 주식 더 샀다\"), Row(TITLE='급식에도 김치 대신 콩나물…“金치 플레이션 감당 못 해”'), Row(TITLE='[마감시황] ‘롤러코스터 코스피’ 상승분 반납 후 강보합 마감'), Row(TITLE='대신증권, 신촌WM센터 투자설명회 개최'), Row(TITLE='[마감시황] 장 막판 코스피 상승분 ‘와르르’…겨우 2170선 수성'), Row(TITLE='\"백일몽 꾼 韓증시\"…코스피·코스닥 보합권 마감'), Row(TITLE='[단독] 몸값 치솟던 골프장…이젠 매물로 쏟아진다'), Row(TITLE='원/달러 환율 소폭 하락…1.0원 내린 1,438.9원 마감'), Row(TITLE='\"매일 모아 보는 솔루션\"…한국투자증권, 투자 콘텐츠 \\'M.ZIP\\' 출시'), Row(TITLE='[데이터로 보는 증시]코스피·코스닥 투자주체별 매매동향( 9월 29일)'), Row(TITLE='오파스넷, 175억원 규모 복지부 응급안전사업 공급'), Row(TITLE='[데이터로 보는 증시]코스닥 기관·외국인·개인 순매수·순매도 상위종목( 9월 29일)'), Row(TITLE='[마감]지수선물 상승..284.75(+1.75p)'), Row(TITLE='[마감]국채선물 상승..101.52 +12틱'), Row(TITLE='달러·원 환율, 하루 만에 하락 전환 1438.9원 마감…장중 낙폭 감소'), Row(TITLE='푸드나무, 10억 규모 자사주 취득 신탁계약 체결'), Row(TITLE=\"[코스닥 마감]외국인·기관 '사자'에도…찔끔 오른 670선\"), Row(TITLE='코스피, 0.08% 상승 2170.93 마감…환율, 1원 내린 1438.9원(2보)'), Row(TITLE='KB證, 어린이들의 ‘놀 권리’ 위한 무지개교실 열어'), Row(TITLE='코스피 2,170선 강보합 마감'), Row(TITLE='휴벡셀, UDI 플랫폼 개발 위해 DH로지스틱스와 MOU'), Row(TITLE='코스피, 1.64포인트(0.08%) 상승한 2170.93 마감'), Row(TITLE='[데이터로 보는 증시] KRX 금 시세(9월 29일)'), Row(TITLE='[fn마감시황]코스피, 외인 매수에도 2200선 회복 실패'), Row(TITLE='푸드나무, 10억 규모 자사주 취득 신탁계약 체결'), Row(TITLE=\"한국투자증권, 금융투자콘텐츠 서비스 'M.ZIP' 출시\"), Row(TITLE='[마감] 코스피, 전일 대비 0.08% 오른 2170.93'), Row(TITLE='코스닥, 1.20P 오른 675.07 마감(0.18% ↑)'), Row(TITLE='[시황]코스피 2170.93(▲0.08%), 코스닥 686.63(▲1.89%), 원·달러 ..'), Row(TITLE='[스팟] 코스피 1.64포인트(0.08%) 오른 2170.93 마감'), Row(TITLE='[마감]코스피 외국인 2195억 순매수'), Row(TITLE='[마감]코스피 기관 20억 순매도'), Row(TITLE='코스피, 1.64P 오른 2170.93 마감(0.08% ↑)'), Row(TITLE='이베스트투자증권, 하반기 대졸 채용전제형 인턴 채용 실시'), Row(TITLE='[달러/원] 환율 1.0원 내린 1438.9원 마감'), Row(TITLE='[코스닥] 1.20p(0.18%) 오른 675.07 마감'), Row(TITLE='[코스피] 1.62p(0.07%) 오른 2170.91 마감'), Row(TITLE='[마감]코스피 기관 20억 순매도'), Row(TITLE='코스피, 1.64P 오른 2170.93 마감(0.08% ↑)'), Row(TITLE='이베스트투자증권, 하반기 대졸 채용전제형 인턴 채용 실시'), Row(TITLE='[달러/원] 환율 1.0원 내린 1438.9원 마감'), Row(TITLE='[코스닥] 1.20p(0.18%) 오른 675.07 마감'), Row(TITLE='[코스피] 1.62p(0.07%) 오른 2170.91 마감'), Row(TITLE='[마감]코스피 개인 2233억 순매도'), Row(TITLE='[마감]코스피 상승..2170.93(+0.08%)'), Row(TITLE='[마감]코스닥 상승..675.07(+0.18%)'), Row(TITLE='[마감]코스닥 외국인 1366억 순매수'), Row(TITLE='[마감]코스닥 개인 2457억 순매도'), Row(TITLE='[마감]코스닥 기관 1074억 순매수'), Row(TITLE='[시그널] 국민연금, 추락 수익률에 일단 제동…-4.7%로 호전'), Row(TITLE='팬데믹 초기보다 더 빠졌다… 유가증권시장 시총, 한 달 만에 190조 증발'), Row(TITLE='[마감]환율 하락..1438.9(-1원)'), Row(TITLE=\"'구미 부동산' 투기과열지구 규제해제 수혜입는다...‘구미인동 하늘채 디어반 2차’ 주목\"), Row(TITLE='코스피, 반등 약해지며 2170선 아슬…삼성전자 하락 전환'), Row(TITLE='반대매매 물량에 2200 깨진 코스피…1920선 전망도'), Row(TITLE='위안화, 인민은행 구두개입에 역내서 9거래일 만에 반등'), Row(TITLE='파리바게뜨, 우리밀로 만든 베이커리 4종 출시'), Row(TITLE='유안타증권, 국내주식 ELS 등 파생결합증권 3종 공모'), Row(TITLE='키움증권, 한국전력공사 채권 세전 연 5.05% 판매'), Row(TITLE='한국투자공사, 실리콘밸리 국제금융협의체 첫 개최…“현지 벤처투자 확대”'), Row(TITLE='이베스트證, 하반기 대졸 채용전제형 인턴 채용 실시'), Row(TITLE='NH투자증권, 코리아빅데이터어워드 ‘과기부장관상’ 수상'), Row(TITLE='회계사들 “3분기 체감경기 악화…4분기도 경기 부진 지속”'), Row(TITLE='아이텍 콜드체인 자회사 동우텍, 산업통상자원부 장관상 수상'), Row(TITLE='이베스트투자증권, 올해 하반기 대졸 채용전제형 인턴 채용 실시'), Row(TITLE='펩트론, 알츠하이머 적응증 임상 2상 공동연구 MOU 체결'), Row(TITLE=\"이베스트證, '2022년 하반기 대졸 채용전제형 인턴' 채용 진행\"), Row(TITLE=\"'에스모 주가 조작' 기업사냥꾼 1심서 징역 20년 벌금 300억원\"), Row(TITLE='강 달러의 시대, 여행 업계의 손익 계산은?'), Row(TITLE='강 달러의 시대, 여행 업계의 손익 계산은?'), Row(TITLE='강 달러의 시대, 여행 업계의 손익 계산은?'), Row(TITLE='외환 시장의 혼돈, 떨어진 원화가치 영향은?'), Row(TITLE='외환 시장의 혼돈, 떨어진 원화가치 영향은?'), Row(TITLE='외환 시장의 혼돈, 떨어진 원화가치 영향은?'), Row(TITLE='1,400원대 원/달러 환율 고시한 사설 환전소'), Row(TITLE='1,400원대 원/달러 환율 고시한 사설 환전소'), Row(TITLE='1,400원대 원/달러 환율 고시한 사설 환전소'), Row(TITLE='사설 환전소에 고시된 외화 환율'), Row(TITLE='사설 환전소에 고시된 외화 환율'), Row(TITLE='사설 환전소에 고시된 외화 환율'), Row(TITLE='원/달러 환율 1,400원 시대, 여행 업계의 손익은?'), Row(TITLE='원/달러 환율 1,400원 시대, 여행 업계의 손익은?'), Row(TITLE='달러 고환율 시대, 사설 환전소에 게시된 오늘 외화 환율'), Row(TITLE='달러 고환율 시대, 사설 환전소에 게시된 오늘 외화 환율'), Row(TITLE='오파스넷, 175억원 규모 복지부 응급안전사업 공급'), Row(TITLE='오파스넷, SK쉴더스와 175억 규모 공급계약 체결'), Row(TITLE=\"글로벌 침체에도 '상장' 자신감…포르쉐, 공모가 최상단 책정\"), Row(TITLE='HDC현대산업개발, 용두1구역 공공재개발사업 수주[주목 e공시]'), Row(TITLE=\"프로스테믹스 'PSI-401' 1상 임상신청 자진철회\"), Row(TITLE='라파스, 30억원 규모 자사주 취득 신탁계약'), Row(TITLE=\"모바일리더, 정정기 대표이사 선임.. '인지소프트'로 사명 변경\"), Row(TITLE='\"50년 간 100% 적중\"…증시 바닥탈출 신호 공개 [안재광의 더부자]'), Row(TITLE='“장기 투자자라면 지금이 FFANG 주식을 싸게 살 기회”'), Row(TITLE='\"한화, KAI 인수 사실 아니다\"…KAI, 주가 상승폭 둔화'), Row(TITLE='톱텍, SK온 헝가리공장 스마트팩토리 571억원 수주'), Row(TITLE='알로이스, 자사주 5000만원 처분…우리사주 무상출연'), Row(TITLE='윈텍, 엘살바도르에 MLCC 검사장치 14억원 규모 공급'), Row(TITLE='셀트리온, 2993억 규모 바이오시밀러 항체의약품 공급계약'), Row(TITLE='태영건설, 5100억 규모 양양 SEASIDE 리조트 신축공사 수주'), Row(TITLE='KB증권, 어린이 ‘놀 권리’ 위한 무지개교실 개관'), Row(TITLE='쌍용차 대표이사…예병태→곽재선, 정용원'), Row(TITLE='HDC현대산업개발, 3307억 규모 용두1구역 공공재개발사업 수주'), Row(TITLE='[그래픽] 금융분야 보이스피싱 대응 방안'), Row(TITLE=\"NFT도 '크립토 윈터'…1월 고점 대비 거래량 97% 감소\"), Row(TITLE='국내 이커머스 상장 1호 주인공 누가될까 [격변의 이커머스①]'), Row(TITLE='[fn마켓워치] 매물로 나온 토종화장품 ‘미샤’, 중국계 SI·FI들 군침'), Row(TITLE='라파스, 30억 규모 자사주 취득 신탁계약 체결'), Row(TITLE='시중은행 업무정지 요구권 사용 ‘0’…“금융권 내부통제 안 돼”'), Row(TITLE='[속보] 尹-해리스 \"필요시 \\'유동성 공급 긴밀협력\\' 합의 재확인\"'), Row(TITLE='펩트론, 영국 임페리얼 칼리지와 알츠하이머 임상2상 공동연구'), Row(TITLE='아이엘사이언스, 21억 규모 경관조명 물품 공급계약'), Row(TITLE=\"한국투자증권, 투자 콘텐츠 서비스 'M.ZIP' 출시\"), Row(TITLE=\"한국투자증권, 기업 대상 '퇴직연금 세미나' 개최\"), Row(TITLE=\"[특징주] 美 바이오젠 치매약 임상 3상 효능 소식에 관련주 '급등'\"), Row(TITLE='[특징주] 펩트론, 알츠하이머 적응증 임상2상 공동연구 MOU 체결에↑'), Row(TITLE='바이오 스타트업 ‘한파’ 지속…VC, 상장사 메자닌 투자 늘린다'), Row(TITLE='7월까지 국민연금 수익률 -4.69%…하반기 상승세 이어갈까'), Row(TITLE='예일회계법인, 국민연금 ‘해외 인프라 부문’ 주자문사 선정'), Row(TITLE='4일 만에 22% 폭락…LG이노텍에 무슨 일이?'), Row(TITLE=\"약세장에 자사주 취득 급증했지만…효과 '글쎄'\"), Row(TITLE='국민연금, 7월 말 수익률 -4.7%…전월比 3.3%p 개선'), Row(TITLE='모바일리더, 정정기 대표이사 선임…사명 ‘인지소프트’로'), Row(TITLE='닥터둠의 조언 \"패닉 셀링 말고 주식 사서 모을 때…지수 2600 간다\"'), Row(TITLE='[특징주]IHQ, 4조200억원 세계 흥행 1위 아바타 13년만에 재개봉…국내 유일 디즈니..'), Row(TITLE='시큐브, 일본서 은닉 수기서명 인증장치 특허 취득'), Row(TITLE='[김대호의 경제읽기] 금융시장 숨 고르기?…코스피 반등하고 원·달러 환율 하락'), Row(TITLE=\"셀트리온 3형제, '베그젤마' 식약처 승인허가 소식에 동반 상승\"), Row(TITLE='선행매매로 2억 부당이득…주식리딩방 운영자 검찰 송치'), Row(TITLE='한국투자증권, 기업 대상 ‘퇴직연금 세미나’ 개최'), Row(TITLE=\"시큐브 '은닉 수기서명 인증 장치' 日 특허\"), Row(TITLE='텔코웨어, SK텔레콤과 32억 규모 용역제공 계약'), Row(TITLE='[오후시황] 상승분 소폭 반납한 코스피…2200선 하회'), Row(TITLE='오늘의 증시 메모[9월 30일]'), Row(TITLE='BTS 개별 활동 선언 후 소속사 하이브 시총 14조 증발'), Row(TITLE=\"[특징주] 기아, 가파른 이익 상승·'깜짝 실적' 전망에 ↑\"), Row(TITLE='텔코웨어, SK텔레콤과 32억 규모 용역제공 계약'), Row(TITLE='[서학개미 리포트] 넥스트에라 에너지, 美 IRA 수혜가 기대되는 안정적인 성장주'), Row(TITLE=\"KB證, MTS 'M-able' 채권 매매 리뉴얼 기념 특판 실시\"), Row(TITLE='공매도용 주식 차입 90일 넘으면 당국에 보고해야'), Row(TITLE='퓨런티어, 라이더 장치 관련 특허 취득'), Row(TITLE='바디텍메드, 50억원 자사주 취득 신탁계약'), Row(TITLE='위안화 투기에 경고한 中당국, 추가 대책 꺼낼까?'), Row(TITLE='SK이노, 창사 60주년 격려금으로 임직원에 자사주 60주 지급'), Row(TITLE=\"[장중시황] 코스피, 외인·기관 '사자'에 2200 회복…삼바 6%↑\"), Row(TITLE='고물가·고환율에 한숨 깊어지는 기업... 교역조건·체감경기 내리막'), Row(TITLE='영유아 발달 고려한 월령 맞춤 학습지 인기…영유아 놀이학습 프로그램'), Row(TITLE='[특징주] 파수, 러시아 대규모 사이버공격 우려… 통합 데이터 보안 사업 부각'), Row(TITLE='코스피, 1%대 상승해 2200선…외인·기관 동반 ‘사자’'), Row(TITLE='한화투자증권, ESG 지수 연계 ELS·ELB 공모'), Row(TITLE='코스피, 오후 들어 2200선 이탈…코스닥 2%대 상승'), Row(TITLE='아마존, 제2의 프라임데이 효과 클까 [서학개미 리포트]'), Row(TITLE='KIC, 첫 실리콘밸리 국제금융협의체 개최'), Row(TITLE='시티랩스, 한국유전자정보연구원과 전략적 MOU'), Row(TITLE='셀트리온, 바이오시밀러 항체의약품 공급계약 체결[주목 e공시]'), Row(TITLE='미래에셋증권, 퇴직연금기금제도 전담운용기관 선정'), Row(TITLE='셀트리온, 2993억 규모 공급계약 체결'), Row(TITLE='신영증권, 자기주식 10만주 취득 결정'), Row(TITLE='셀트리온, 2993억 규모 공급계약 체결'), Row(TITLE='신영증권, 자기주식 10만주 취득 결정'), Row(TITLE='드림시큐리티, KISA 바이오인식 인증 획득'), Row(TITLE='빚투족 어쩌나…긴축·경기침체 공포에 반대매매 ‘폭탄’'), Row(TITLE='[특징주]한국전자금융, 카카오페이 POS 1위 오케이포스 지분 투자...지분 보유 부각↑'), Row(TITLE='바디텍메드, 50억 규모 자사주 취득 신탁계약 체결'), Row(TITLE='카이노스메드, 美 자회사 기술이전 위한 컨설턴트 영입'), Row(TITLE=\"'선행매매로 2억 편취' 주식리딩방 운영자, 특사경 적발\"), Row(TITLE='\"회계 감리 1년으로 명문화\"…금감원, 외부감사 시행세칙 개정'), Row(TITLE=\"KB證, MTS 채권 메뉴 개편…'고금리 우량채권' 특별판매\"), Row(TITLE='[특징주] 윈텍, 엘살바도르에 MLCC 검사장치 14억 규모 공급… 3%↑'), Row(TITLE='[특징주] 대웅제약, 보툴리눔 톡신 美 임상 2상 성공에 6%↑'), Row(TITLE='시티랩스, 한국유전자정보연구원과 업무협약 체결'), Row(TITLE=\"최현만이 공들인 '퇴직연금기금제도'…미래에셋證 전담운용기관 선정\"), Row(TITLE='톱텍, 572억 규모 SK온 헝가리공장 스마트팩토리 구축 계약'), Row(TITLE='시티랩스, 한국유전자정보연구원과 MOU 체결… 사업 영역 확장'), Row(TITLE='감사인 인력요건 ‘500인 이상’ 완화…감사인 지정제 보완'), Row(TITLE='카이노스메드, 美 자회사 기술이전 위한 컨설턴트 영입'), Row(TITLE='하이리빙-그래미, 상생협력 및 동반성장 위한 업무 협약식 개최'), Row(TITLE=\"한국투자증권, 기업 대상 '퇴직연금 세미나' 개최\"), Row(TITLE='톱텍, 572억 규모 공급계약 체결'), Row(TITLE='[특징주] 엔젠바이오, 위뉴와 유전체 기반 헬스케어 MOU 체결에↑'), Row(TITLE='윈텍 주식회사, 14억 규모 공급계약 체결'), Row(TITLE='[특징주]케이에스피, 유럽 노르트스트림 영구 훼손..유럽 LNG선 확대 불가피↑'), Row(TITLE=\"'증시 찬바람' 신용잔고 일주일새 7000억 급감… 고객예탁금도 '뚝'\"), Row(TITLE='코아시아, 반도체대전 SEDEX 2022 참가 \"전장용 반도체 플랫폼 기술력 부각\"'), Row(TITLE=\"한국투자증권, MZ세대 위한 투자 콘텐츠 서비스 'M.ZIP' 출시\"), Row(TITLE='[특징주] 퓨런티어, 39억 규모 전장용 카메라 제조공정장비 공급계약 소식에 ↑'), Row(TITLE='티비에스머티리얼, 화재법 맞춤 솔루션 위해 아이씨티솔루션과 MOU'), Row(TITLE='\"프로가 프로답게\" 신한금투, 내달 1일부터 \\'신한투자증권\\'으로 새 출발'), Row(TITLE='로드로아르(LORD LOAR), 22FW 시즌 신제품 출시'), Row(TITLE='[특징주] 톱텍, SK온 헝가리공장 스마트팩토리 571억원 수주에 강세'), Row(TITLE='[특징주] JW신약, 2030 탈모 급증… 거품형 탈모치료제 미 FDA 승인 부각'), Row(TITLE=\"[특징주]남성, BMW 차세대 음성인식 서비스 '아마존 알렉사' 선택..아마존과 알렉사오토..\"), Row(TITLE='[특징주] 한국항공우주, 민영화 추진 기대감에 6%↑'), Row(TITLE=\"코아시아, 반도체대전 'SEDEX 2022' 참가\"), Row(TITLE=\"신저가 행렬에 '4만전자' 우려도…반등시기 언제 오나\"), Row(TITLE=\"가상자산사업자 검사해보니...자금세탁방지 미흡 '수두룩'\"), Row(TITLE=\"뉴욕 타임스퀘어서 '신한투자증권' 새 사명 알려\"), Row(TITLE='\"금융 진출 빅테크, 공정경쟁·시장안정 위해 규제 필요\"'), Row(TITLE='프로스테믹스, PSI-401 1상 임상신청 자진철회'), Row(TITLE='금감원 \"나 아닌 가족에게 전달된 \\'채권추심 문자\\'…불법입니다\"'), Row(TITLE='톱텍, SK온 헝가리공장 스마트팩토리 571억원 수주'), Row(TITLE='윈텍, 엘살바도르에 MLCC 검사장치 14억원 규모 공급'), Row(TITLE=\"'알츠하이머약 임상 효과' 美바이오젠 주가 40%↑·시총 16조↑\"), Row(TITLE='미래에셋증권, 중소기업퇴직연금기금 전담운용기관 선정'), Row(TITLE=\"드래곤플라이, P2E버전 '블랙스쿼드' 오픈베타 시작\"), Row(TITLE='“감리조사 1년이 원칙”···기한 명문화 등 외감규정 시행세칙 시행'), Row(TITLE='금감원, 친환경차·SUV 자동차보험 대차료 지급기준 개선'), Row(TITLE='야간 방문·가족 연락하는 불법채권추심엔 이렇게 대처하세요'), Row(TITLE='“회계투명성 높일 것”···보완 감사인지정제 시행'), Row(TITLE=\"자산 2조원 넘는 상장사 지정감사, '빅4' 회계법인 전담\"), Row(TITLE='[올댓차이나] 홍콩 증시, 뉴욕 증시 강세에 반등 출발...H주 1.85%↑'), Row(TITLE='\"감사인 \\'가군\\' 인력기준 600→500명\"…감사인 지정제 보완한 개정안 시행'), Row(TITLE='내달부터 감사인 지정 방식 변경…감사갑질 회계법인 점수 차감'), Row(TITLE='금감원, 회계 감리 1년 명문화…품질 평가기준 확정'), Row(TITLE='\"회계법인 감사품질 나쁘면 페널티\"...\\'감사인 지정제\\' 어떻게 바뀌나'), Row(TITLE='미래에셋자산운용 인도법인, 두바이 지점 설립'), Row(TITLE='지난해 열풍 불었던 NFT 거래액, 사상 최대치 대비 97% 급감'), Row(TITLE='\"치매약 개발 성공적\" 소식에…삼성바이오로직스 7%↑, 80만원 회복'), Row(TITLE=\"한국투자증권, 기업 대상 '퇴직연금 세미나' 개최\"), Row(TITLE='뉴욕 타임스퀘어 전광판 채운 신한투자증권'), Row(TITLE=\"증시 급락에 '증안펀드' 재가동…'공매도 금지' 카드도 나오나\"), Row(TITLE='프로스테믹스, 씨케이엑소젠과 첨단재생 엑소좀신약 공동개발'), Row(TITLE='\"비트코인, 美SEC 아닌 CFTC 규제대상 되면 가격 두 배 뛴다\"'), Row(TITLE='티와이홀딩스, 5100억 규모 공급계약 체결'), Row(TITLE='선행매매로 2억 부당이득 챙긴 리딩방 운영자 검찰 송치'), Row(TITLE='넷마블, 블록체인 기반 ‘킹 오브 파이터 아레나’ 글로벌 사전등록'), Row(TITLE='미래에셋증권, 국내 첫 퇴직연금기금제도 출범'), Row(TITLE='먹구름 실적 증시...“내년에도 힘들다”'), Row(TITLE='‘금리 직격탄’ 네이버...첫 분기배당도 허무'), Row(TITLE='자금출처란에 특수부호?...가상자산사업자, 곳곳 허점 노출'), Row(TITLE='[올댓차이나] 中 증시, 저가 매수에 반등 출발...창업판 1.33%↑'), Row(TITLE=\"'00종목 대박정보' 리딩방으로 2억 편취한 운영자, 검찰 기소\"), Row(TITLE='미래에셋운용, 중동시장 공략 본격화'), Row(TITLE='\"팬엔터테인먼트, 콘텐츠 생산 확대 기대감\"'), Row(TITLE='NH證, 제 9회 코리아빅데이터어워드 ‘과기부장관상’ 수상'), Row(TITLE=\"[장중시황] 코스피, 외인 '사자'에 2200 회복 시도…환율 1435원\"), Row(TITLE='쌍용자동차, 곽재선·정용원 대표이사 선임'), Row(TITLE='\"경기침체가 뭐죠?\"…\\'코스피 급락\\' 9월에도 7% 오른 제일기획'), Row(TITLE='주식 미리 사놓고 “이 종목 매수요”…2억 챙긴 리딩방'), Row(TITLE='미래에셋증권, 중소기업퇴직연금 전담운용기관에 선정'), Row(TITLE='카이노스메드, 美 자회사 투자유치 위해 컨설턴트 영입'), Row(TITLE='`고래` 줄어드는 이더리움, 매물 부담 여전하다 (영상)'), Row(TITLE='셀트리온, 셀트리온헬스케어와 2993억 바이오시밀러 공급 계약'), Row(TITLE='셀트리온, 2993억 규모 바이오시밀러 항체의약품 공급계약'), Row(TITLE='미래에셋증권, 국내 첫 퇴직연금기금 전담 운용기관 선정'), Row(TITLE='[서학개미는 지금] 글로벌 증시 불안한데…개미, TQQQ·SOXL 3배 레버리지 싹쓸이'), Row(TITLE='태영건설, 5100억 강원도 양양 리조트 신축공사 수주'), Row(TITLE='[주식 초고수는 지금] 샤페론 IPO 기대감에 국전약품 관신 집중'), Row(TITLE=\"'기부 천사' 매켄지 스콧, 베이조스와 결별 후 2년 만에 이혼위기\"), Row(TITLE='한국투자증권, 기업 대상 ‘퇴직연금 세미나’ 개최'), Row(TITLE='[비트코인 지금]美 증시 훈풍 불자 3%대 오름세…투심도 개선'), Row(TITLE='하이투자증권, ELS 2종 공모'), Row(TITLE='[특징주] LG이노텍, 아이폰14 우려 과도 평가·실적 증가 전망에 2%대↑'), Row(TITLE='로젠블라트 “FAANG 주식은 언제나 승리…저점 매수할 때”'), Row(TITLE=\"RF머트리얼즈, 차세대 'GaN기술' 국산화 성공 소식에 급등\"), Row(TITLE='태영건설, 5100억 규모 양양 SEASIDE 리조트 신축공사 수주'), Row(TITLE=\"피싱 창구된 'ATM무통장입금'...회당 50만원만 가능해진다\"), Row(TITLE='한화투자증권, ESG 지수 연계 ELS/ELB 공모'), Row(TITLE='다시 등장한 증안펀드, 증시 추락 방어하는 구원투수될까'), Row(TITLE='하이투자증권, ELS 2종 공모'), Row(TITLE='미래에셋증권, 중소기업퇴직연금 전담운용기관에 선정'), Row(TITLE=\"中 위안화 기준환율 소폭 하락, 정부 경고에 '주춤'\"), Row(TITLE='90일 이상 장기 공매도 투자자 보고 의무화된다'), Row(TITLE='KB금융 14주년 창립 기념식 개최'), Row(TITLE='FIU “일부 가상자산사업자, 고객정보 누락에 실소유주 파악도 못해”'), Row(TITLE='[특징주]앱클론, CRT-T치료제  AT101 임상 상당수 혈액암 환자서 완전관해 소식에↑'), Row(TITLE='포스코건설, ‘더샵 광양라크포엠’ 견본주택 성황리 오픈'), Row(TITLE='유안타증권, 국내주식 ELS 등 파생결합증권 3종 공모'), Row(TITLE='쌍용차 대표이사…예병태→곽재선, 정용원'), Row(TITLE=\"코스닥, 외국인·기관 쌍끌이 매수…690선 '안착'\"), Row(TITLE='윤종규 KB금융 회장 \"모빌리티·디지털자산에 과감히 투자\"'), Row(TITLE='미래에셋증권, 국내 첫 퇴직연금기금제도 전담운용기관 선정'), Row(TITLE='보이스피싱 조직, 계좌이체·출금 어렵게 만든다'), Row(TITLE='\\'찐 바닥\\'은 어디?…\"코스피 2000 깨질수도\" vs \"2050은 버텨줄 것\"(종합)'), Row(TITLE='아이폰 증산계획 철회에 원화 출렁? 애플의 나비효과'), Row(TITLE='미래에셋證, 중소기업퇴직연금 전담운용기관 업무협약'), Row(TITLE='아마존, 물류창고 노동자 시급 인상…10억달러 더 든다'), Row(TITLE=\"테라 권도형 지금 어디 있나…전세계 언론도 '추적'\")])"
      ]
     },
     "execution_count": 12,
     "metadata": {},
     "output_type": "execute_result"
    }
   ],
   "source": [
    "tmp2=tmp.select('data').first()\n",
    "tmp2"
   ]
  },
  {
   "cell_type": "code",
   "execution_count": 9,
   "metadata": {},
   "outputs": [
    {
     "name": "stderr",
     "output_type": "stream",
     "text": [
      "[Stage 3:>                                                          (0 + 1) / 1]\r"
     ]
    },
    {
     "name": "stdout",
     "output_type": "stream",
     "text": [
      "+-----------------------------------+\n",
      "|                              TITLE|\n",
      "+-----------------------------------+\n",
      "|  코스피, 영란은행이 만든 반나절...|\n",
      "|     형지I&C, 128억원 주주배정 유증|\n",
      "|        [표]장외주식 거래현황(9/29)|\n",
      "|  강종현 회장이 거느린 비덴트는 ...|\n",
      "| 티쓰리엔터테인먼트, 증권신고서 ...|\n",
      "| 이베스트투자증권, 하반기 채용전...|\n",
      "|   밀리의 서재, 증권신고서 제출....|\n",
      "|       [표]증시주변 자금동향 (9/28)|\n",
      "|   [표]코스피 기관/외국인 매매동...|\n",
      "|   [표]코스닥 기관/외국인 매매동...|\n",
      "|  [표]주가지수선물 투자자별 매매...|\n",
      "|   밀리의 서재, 증권신고서 제출…...|\n",
      "| 티쓰리엔터테인먼트, 증권신고서 ...|\n",
      "| [표]거래소주가지수선물·옵션시세...|\n",
      "|       [AD]내년 5% 전망에 출렁이...|\n",
      "|  이즈미디어, 골프웨어 사업부문 ...|\n",
      "|   한국투자증권, 기업 대상 ‘퇴직...|\n",
      "|       KT가 품은 ‘밀리의 서재’, ...|\n",
      "|    휴먼엔, 13억원 규모 해상고철...|\n",
      "|이즈미디어, 골프웨어 사업 영업 정지|\n",
      "+-----------------------------------+\n",
      "only showing top 20 rows\n",
      "\n"
     ]
    },
    {
     "name": "stderr",
     "output_type": "stream",
     "text": [
      "                                                                                \r"
     ]
    },
    {
     "data": {
      "text/plain": [
       "pyspark.sql.dataframe.DataFrame"
      ]
     },
     "execution_count": 9,
     "metadata": {},
     "output_type": "execute_result"
    }
   ],
   "source": [
    "news=spark.createDataFrame(tmp2['data'])\n",
    "news.show()\n",
    "type(news)"
   ]
  },
  {
   "cell_type": "code",
   "execution_count": 38,
   "metadata": {},
   "outputs": [
    {
     "name": "stderr",
     "output_type": "stream",
     "text": [
      "                                                                                \r"
     ]
    },
    {
     "name": "stdout",
     "output_type": "stream",
     "text": [
      "+----------+-----------------------------------+\n",
      "|   STD_DAY|                              TITLE|\n",
      "+----------+-----------------------------------+\n",
      "|2022-09-29|  코스피, 영란은행이 만든 반나절...|\n",
      "|2022-09-29|     형지I&C, 128억원 주주배정 유증|\n",
      "|2022-09-29|        [표]장외주식 거래현황(9/29)|\n",
      "|2022-09-29|  강종현 회장이 거느린 비덴트는 ...|\n",
      "|2022-09-29| 티쓰리엔터테인먼트, 증권신고서 ...|\n",
      "|2022-09-29| 이베스트투자증권, 하반기 채용전...|\n",
      "|2022-09-29|   밀리의 서재, 증권신고서 제출....|\n",
      "|2022-09-29|       [표]증시주변 자금동향 (9/28)|\n",
      "|2022-09-29|   [표]코스피 기관/외국인 매매동...|\n",
      "|2022-09-29|   [표]코스닥 기관/외국인 매매동...|\n",
      "|2022-09-29|  [표]주가지수선물 투자자별 매매...|\n",
      "|2022-09-29|   밀리의 서재, 증권신고서 제출…...|\n",
      "|2022-09-29| 티쓰리엔터테인먼트, 증권신고서 ...|\n",
      "|2022-09-29| [표]거래소주가지수선물·옵션시세...|\n",
      "|2022-09-29|       [AD]내년 5% 전망에 출렁이...|\n",
      "|2022-09-29|  이즈미디어, 골프웨어 사업부문 ...|\n",
      "|2022-09-29|   한국투자증권, 기업 대상 ‘퇴직...|\n",
      "|2022-09-29|       KT가 품은 ‘밀리의 서재’, ...|\n",
      "|2022-09-29|    휴먼엔, 13억원 규모 해상고철...|\n",
      "|2022-09-29|이즈미디어, 골프웨어 사업 영업 정지|\n",
      "+----------+-----------------------------------+\n",
      "only showing top 20 rows\n",
      "\n"
     ]
    }
   ],
   "source": [
    "news_day =news.withColumn('STD_DAY',current_date())\n",
    "news_day = news_day[[col('STD_DAY'),col('TITLE')]]\n",
    "news_day.show()"
   ]
  }
 ],
 "metadata": {
  "kernelspec": {
   "display_name": "Python 3.10.5 64-bit",
   "language": "python",
   "name": "python3"
  },
  "language_info": {
   "codemirror_mode": {
    "name": "ipython",
    "version": 3
   },
   "file_extension": ".py",
   "mimetype": "text/x-python",
   "name": "python",
   "nbconvert_exporter": "python",
   "pygments_lexer": "ipython3",
   "version": "3.10.5"
  },
  "orig_nbformat": 4,
  "vscode": {
   "interpreter": {
    "hash": "ba631fd18c6ba4f2745f674ee284c5c9aa26a46ab7315e6d5db064e0987f2c32"
   }
  }
 },
 "nbformat": 4,
 "nbformat_minor": 2
}
